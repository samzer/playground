{
 "cells": [
  {
   "cell_type": "markdown",
   "metadata": {},
   "source": [
    "# Create the data\n"
   ]
  },
  {
   "cell_type": "code",
   "execution_count": 1,
   "metadata": {},
   "outputs": [],
   "source": [
    "%matplotlib inline  \n",
    "import matplotlib.pyplot as plt\n",
    "import numpy as np\n",
    "\n",
    "\n",
    "X = np.array([[1,2],\n",
    "        [1,1],\n",
    "        [2,3],\n",
    "        [5,6],\n",
    "        [7,2],\n",
    "        [8,3]])\n",
    "\n",
    "y = np.array([-1,\n",
    "     -1,\n",
    "     -1,\n",
    "      1,\n",
    "      1,\n",
    "      1])"
   ]
  },
  {
   "cell_type": "markdown",
   "metadata": {},
   "source": [
    "## Plot the data"
   ]
  },
  {
   "cell_type": "code",
   "execution_count": 2,
   "metadata": {},
   "outputs": [
    {
     "data": {
      "image/png": "[encoded data removed]",
      "text/plain": [
       "<Figure size 432x288 with 1 Axes>"
      ]
     },
     "metadata": {
      "needs_background": "light"
     },
     "output_type": "display_data"
    }
   ],
   "source": [
    "red_points = (list(),list())\n",
    "blue_points = (list(),list())\n",
    "\n",
    "for i in range(len(X)):\n",
    "    if y[i] == -1:\n",
    "        red_points[0].append(X[i][0])\n",
    "        red_points[1].append(X[i][1])\n",
    "    else:\n",
    "        blue_points[0].append(X[i][0])\n",
    "        blue_points[1].append(X[i][1])\n",
    "        \n",
    "plt.plot(red_points[0], red_points[1], 'ro')\n",
    "plt.plot(blue_points[0], blue_points[1], 'bo')\n",
    "plt.show()\n"
   ]
  },
  {
   "cell_type": "markdown",
   "metadata": {},
   "source": [
    "\n",
    "## Solve Alphas"
   ]
  },
  {
   "cell_type": "code",
   "execution_count": 3,
   "metadata": {},
   "outputs": [],
   "source": [
    "from cvxopt import matrix as cvxopt_matrix\n",
    "from cvxopt import solvers as cvxopt_solvers\n",
    "\n",
    "\n",
    "#Initializing values and computing H. Note the 1. to force to float type\n",
    "m,n = X.shape\n",
    "y = y.reshape(-1,1) * 1.\n",
    "X_dash = y * X\n",
    "H = np.dot(X_dash , X_dash.T) * 1.\n",
    "\n",
    "#Converting into cvxopt format\n",
    "P = cvxopt_matrix(H)\n",
    "q = cvxopt_matrix(-np.ones((m, 1)))\n",
    "G = cvxopt_matrix(-np.eye(m))\n",
    "h = cvxopt_matrix(np.zeros(m))\n",
    "A = cvxopt_matrix(y.reshape(1, -1))\n",
    "b = cvxopt_matrix(np.zeros(1))\n",
    "\n",
    "#Setting solver parameters (change default to decrease tolerance) \n",
    "cvxopt_solvers.options['show_progress'] = False\n",
    "cvxopt_solvers.options['abstol'] = 1e-10\n",
    "cvxopt_solvers.options['reltol'] = 1e-10\n",
    "cvxopt_solvers.options['feastol'] = 1e-10\n",
    "\n",
    "#Run solver\n",
    "sol = cvxopt_solvers.qp(P, q, G, h, A, b)\n",
    "alphas = np.array(sol['x'])\n"
   ]
  },
  {
   "cell_type": "code",
   "execution_count": null,
   "metadata": {},
   "outputs": [],
   "source": []
  },
  {
   "cell_type": "code",
   "execution_count": 4,
   "metadata": {},
   "outputs": [
    {
     "data": {
      "text/plain": [
       "array([[8.71440822e-12],\n",
       "       [1.86368693e-11],\n",
       "       [1.23456790e-01],\n",
       "       [8.64197531e-02],\n",
       "       [3.70370370e-02],\n",
       "       [5.11081276e-11]])"
      ]
     },
     "execution_count": 4,
     "metadata": {},
     "output_type": "execute_result"
    }
   ],
   "source": [
    "alphas"
   ]
  },
  {
   "cell_type": "markdown",
   "metadata": {},
   "source": [
    "## Compute w and b parameters"
   ]
  },
  {
   "cell_type": "code",
   "execution_count": 5,
   "metadata": {},
   "outputs": [
    {
     "name": "stdout",
     "output_type": "stream",
     "text": [
      "Alphas =  [0.12345679 0.08641975 0.03703704]\n",
      "w =  [0.44444444 0.22222222]\n",
      "b =  -2.5555555557919636\n"
     ]
    }
   ],
   "source": [
    "#w parameter in vectorized form\n",
    "w = ((y * alphas).T @ X).reshape(-1,1)\n",
    "\n",
    "#Selecting the set of indices S corresponding to non zero parameters\n",
    "S = (alphas > 1e-4).flatten()\n",
    "\n",
    "#Computing b\n",
    "b = y[S] - np.dot(X[S], w)\n",
    "b = np.mean(b)\n",
    "\n",
    "#Display results\n",
    "print('Alphas = ',alphas[alphas > 1e-4])\n",
    "print('w = ', w.flatten())\n",
    "print('b = ', b)"
   ]
  },
  {
   "cell_type": "markdown",
   "metadata": {},
   "source": [
    "## Predict and Plot"
   ]
  },
  {
   "cell_type": "code",
   "execution_count": 10,
   "metadata": {},
   "outputs": [
    {
     "data": {
      "text/plain": [
       "array([[-1.],\n",
       "       [-1.],\n",
       "       [-1.],\n",
       "       [ 1.],\n",
       "       [ 1.],\n",
       "       [ 1.]])"
      ]
     },
     "execution_count": 10,
     "metadata": {},
     "output_type": "execute_result"
    }
   ],
   "source": [
    "y_pred = np.sign(X@w + b)\n",
    "print(y_pred)"
   ]
  },
  {
   "cell_type": "code",
   "execution_count": 13,
   "metadata": {},
   "outputs": [
    {
     "data": {
      "text/plain": [
       "array([-1.])"
      ]
     },
     "execution_count": 13,
     "metadata": {},
     "output_type": "execute_result"
    }
   ],
   "source": [
    "np.sign([1,2]@w + b)"
   ]
  },
  {
   "cell_type": "code",
   "execution_count": 11,
   "metadata": {},
   "outputs": [
    {
     "data": {
      "text/plain": [
       "array([[-1.66666667],\n",
       "       [-1.88888889],\n",
       "       [-1.        ],\n",
       "       [ 1.        ],\n",
       "       [ 1.        ],\n",
       "       [ 1.66666667]])"
      ]
     },
     "execution_count": 11,
     "metadata": {},
     "output_type": "execute_result"
    }
   ],
   "source": [
    "X@w + b"
   ]
  },
  {
   "cell_type": "code",
   "execution_count": 60,
   "metadata": {},
   "outputs": [
    {
     "data": {
      "image/png": "[encoded data removed]",
      "text/plain": [
       "<Figure size 432x288 with 1 Axes>"
      ]
     },
     "metadata": {
      "needs_background": "light"
     },
     "output_type": "display_data"
    }
   ],
   "source": [
    "def get_y(x):\n",
    "    return -(w[0]*x + b)*1.0/w[1]\n",
    "\n",
    "x_points = [0,1,2,3,4,5]\n",
    "y_points = [ get_y(e) for e in x_points]\n",
    "\n",
    "plt.plot(red_points[0], red_points[1], 'ro')\n",
    "plt.plot(blue_points[0], blue_points[1], 'bo')\n",
    "plt.plot(x_points, y_points, 'c-')\n",
    "plt.show()"
   ]
  },
  {
   "cell_type": "markdown",
   "metadata": {},
   "source": [
    "# Non Linearly Separable "
   ]
  },
  {
   "cell_type": "code",
   "execution_count": 90,
   "metadata": {},
   "outputs": [],
   "source": [
    "X = np.array([[1,2],\n",
    "        [1,1],\n",
    "        [2,5],\n",
    "        [1,4],              \n",
    "        [5,6],\n",
    "        [7,2],\n",
    "        [8,3]])\n",
    "\n",
    "y = np.array([-1,\n",
    "     -1,\n",
    "     -1,\n",
    "      1,\n",
    "      1,\n",
    "      1,\n",
    "      1])"
   ]
  },
  {
   "cell_type": "code",
   "execution_count": 15,
   "metadata": {},
   "outputs": [
    {
     "data": {
      "text/plain": [
       "numpy.ndarray"
      ]
     },
     "execution_count": 15,
     "metadata": {},
     "output_type": "execute_result"
    }
   ],
   "source": [
    "type(X)"
   ]
  },
  {
   "cell_type": "code",
   "execution_count": 91,
   "metadata": {},
   "outputs": [
    {
     "data": {
      "image/png": "[encoded data removed]",
      "text/plain": [
       "<Figure size 432x288 with 1 Axes>"
      ]
     },
     "metadata": {
      "needs_background": "light"
     },
     "output_type": "display_data"
    }
   ],
   "source": [
    "red_points = (list(),list())\n",
    "blue_points = (list(),list())\n",
    "\n",
    "for i in range(len(X)):\n",
    "    if y[i] == -1:\n",
    "        red_points[0].append(X[i][0])\n",
    "        red_points[1].append(X[i][1])\n",
    "    else:\n",
    "        blue_points[0].append(X[i][0])\n",
    "        blue_points[1].append(X[i][1])\n",
    "        \n",
    "plt.plot(red_points[0], red_points[1], 'ro')\n",
    "plt.plot(blue_points[0], blue_points[1], 'bo')\n",
    "plt.show()\n"
   ]
  },
  {
   "cell_type": "markdown",
   "metadata": {},
   "source": [
    "# Solve Alphas"
   ]
  },
  {
   "cell_type": "code",
   "execution_count": 104,
   "metadata": {},
   "outputs": [],
   "source": [
    "C = 10\n",
    "m,n = X.shape\n",
    "y = y.reshape(-1,1) * 1.\n",
    "X_dash = y * X\n",
    "H = np.dot(X_dash , X_dash.T) * 1.\n",
    "\n",
    "#Converting into cvxopt format\n",
    "P = cvxopt_matrix(H)\n",
    "q = cvxopt_matrix(-np.ones((m, 1)))\n",
    "G = cvxopt_matrix(np.vstack((np.eye(m)*-1,np.eye(m))))\n",
    "h = cvxopt_matrix(np.hstack((np.zeros(m), np.ones(m) * C)))\n",
    "A = cvxopt_matrix(y.reshape(1, -1))\n",
    "b = cvxopt_matrix(np.zeros(1))\n",
    "\n",
    "#Run solver\n",
    "sol = cvxopt_solvers.qp(P, q, G, h, A, b)\n",
    "alphas = np.array(sol['x'])\n",
    "\n"
   ]
  },
  {
   "cell_type": "code",
   "execution_count": 105,
   "metadata": {},
   "outputs": [
    {
     "name": "stdout",
     "output_type": "stream",
     "text": [
      "Alphas =  [ 2.56944444 10.         10.          2.54166667  0.02777778]\n",
      "w =  [0.33333333 0.16666667]\n",
      "b =  -1.499999999916658\n"
     ]
    }
   ],
   "source": [
    "#==================Computing and printing parameters===============================#\n",
    "w = ((y * alphas).T @ X).reshape(-1,1)\n",
    "S = (alphas > 1e-4).flatten()\n",
    "b = y[S] - np.dot(X[S], w)\n",
    "b = np.mean(b)\n",
    "\n",
    "#Display results\n",
    "print('Alphas = ',alphas[alphas > 1e-4])\n",
    "print('w = ', w.flatten())\n",
    "print('b = ', b)"
   ]
  },
  {
   "cell_type": "markdown",
   "metadata": {},
   "source": [
    "# Predict and Plot\n",
    "\n"
   ]
  },
  {
   "cell_type": "code",
   "execution_count": 106,
   "metadata": {},
   "outputs": [
    {
     "name": "stdout",
     "output_type": "stream",
     "text": [
      "[[-1.]\n",
      " [-1.]\n",
      " [-1.]\n",
      " [-1.]\n",
      " [ 1.]\n",
      " [ 1.]\n",
      " [ 1.]]\n"
     ]
    }
   ],
   "source": [
    "y_pred = np.sign(X@w + b)\n",
    "print(y_pred)"
   ]
  },
  {
   "cell_type": "code",
   "execution_count": 107,
   "metadata": {},
   "outputs": [
    {
     "data": {
      "image/png": "[encoded data removed]",
      "text/plain": [
       "<Figure size 432x288 with 1 Axes>"
      ]
     },
     "metadata": {
      "needs_background": "light"
     },
     "output_type": "display_data"
    }
   ],
   "source": [
    "x_points = [0,1,2,3,4,5]\n",
    "y_points = [ get_y(e) for e in x_points]\n",
    "\n",
    "plt.plot(red_points[0], red_points[1], 'ro')\n",
    "plt.plot(blue_points[0], blue_points[1], 'bo')\n",
    "plt.plot(x_points, y_points, 'c-')\n",
    "plt.show()"
   ]
  },
  {
   "cell_type": "code",
   "execution_count": null,
   "metadata": {},
   "outputs": [],
   "source": []
  },
  {
   "cell_type": "code",
   "execution_count": null,
   "metadata": {},
   "outputs": [],
   "source": []
  }
 ],
 "metadata": {
  "kernelspec": {
   "display_name": "Python 3",
   "language": "python",
   "name": "python3"
  },
  "language_info": {
   "codemirror_mode": {
    "name": "ipython",
    "version": 3
   },
   "file_extension": ".py",
   "mimetype": "text/x-python",
   "name": "python",
   "nbconvert_exporter": "python",
   "pygments_lexer": "ipython3",
   "version": "3.6.6"
  }
 },
 "nbformat": 4,
 "nbformat_minor": 2
}
